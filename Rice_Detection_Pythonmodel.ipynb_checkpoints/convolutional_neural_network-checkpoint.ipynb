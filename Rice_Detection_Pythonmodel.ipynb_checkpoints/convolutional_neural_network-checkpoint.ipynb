{
 "cells": [
  {
   "cell_type": "markdown",
   "metadata": {
    "colab_type": "text",
    "id": "3DR-eO17geWu"
   },
   "source": [
    "# Convolutional Neural Network"
   ]
  },
  {
   "cell_type": "code",
   "execution_count": 1,
   "metadata": {
    "colab": {},
    "colab_type": "code",
    "id": "sCV30xyVhFbE"
   },
   "outputs": [],
   "source": [
    "from tensorflow.keras.preprocessing.image import ImageDataGenerator"
   ]
  },
  {
   "cell_type": "markdown",
   "metadata": {
    "colab_type": "text",
    "id": "MvE-heJNo3GG"
   },
   "source": [
    "## Preprocessing"
   ]
  },
  {
   "cell_type": "code",
   "execution_count": 2,
   "metadata": {
    "colab": {},
    "colab_type": "code",
    "id": "0koUcJMJpEBD"
   },
   "outputs": [
    {
     "name": "stdout",
     "output_type": "stream",
     "text": [
      "Found 90 images belonging to 3 classes.\n"
     ]
    }
   ],
   "source": [
    "train_datagen = ImageDataGenerator(rescale = 1./255,\n",
    "                                   shear_range = 0.2,\n",
    "                                   zoom_range = 0.2,\n",
    "                                   width_shift_range=0.2,\n",
    "                                   height_shift_range=0.2,\n",
    "                                   horizontal_flip = True,\n",
    "                                  vertical_flip=True)\n",
    "training_set = train_datagen.flow_from_directory('datasets/train')"
   ]
  },
  {
   "cell_type": "code",
   "execution_count": 3,
   "metadata": {
    "colab": {},
    "colab_type": "code",
    "id": "SH4WzfOhpKc3"
   },
   "outputs": [
    {
     "name": "stdout",
     "output_type": "stream",
     "text": [
      "Found 33 images belonging to 3 classes.\n"
     ]
    }
   ],
   "source": [
    "test_datagen = ImageDataGenerator(rescale = 1./255,\n",
    "                                   shear_range = 0.2,\n",
    "                                   zoom_range = 0.2,\n",
    "                                  width_shift_range=0.2,\n",
    "                                   height_shift_range=0.2,\n",
    "                                   horizontal_flip = True,\n",
    "                                 vertical_flip=True)\n",
    "test_set = test_datagen.flow_from_directory('datasets/test')"
   ]
  },
  {
   "cell_type": "code",
   "execution_count": 4,
   "metadata": {},
   "outputs": [],
   "source": [
    "import matplotlib.image as img"
   ]
  },
  {
   "cell_type": "code",
   "execution_count": 5,
   "metadata": {},
   "outputs": [
    {
     "data": {
      "text/plain": [
       "(256, 256, 3)"
      ]
     },
     "execution_count": 5,
     "metadata": {},
     "output_type": "execute_result"
    }
   ],
   "source": [
    "training_set.image_shape"
   ]
  },
  {
   "cell_type": "markdown",
   "metadata": {
    "colab_type": "text",
    "id": "af8O4l90gk7B"
   },
   "source": [
    "## Building the CNN"
   ]
  },
  {
   "cell_type": "code",
   "execution_count": 6,
   "metadata": {},
   "outputs": [],
   "source": [
    "from tensorflow.keras.models import Sequential\n",
    "from tensorflow.keras.layers import Conv2D,MaxPool2D,Flatten,Dense,Dropout\n",
    "from tensorflow.keras.callbacks import EarlyStopping"
   ]
  },
  {
   "cell_type": "code",
   "execution_count": 7,
   "metadata": {
    "colab": {},
    "colab_type": "code",
    "id": "SAUt4UMPlhLS"
   },
   "outputs": [],
   "source": [
    "cnn = Sequential()"
   ]
  },
  {
   "cell_type": "code",
   "execution_count": 8,
   "metadata": {
    "colab": {},
    "colab_type": "code",
    "id": "XPzPrMckl-hV"
   },
   "outputs": [],
   "source": [
    "cnn.add(Conv2D(filters=32, kernel_size=3, activation='relu',input_shape=[256, 256, 3]))"
   ]
  },
  {
   "cell_type": "code",
   "execution_count": 9,
   "metadata": {
    "colab": {},
    "colab_type": "code",
    "id": "ncpqPl69mOac"
   },
   "outputs": [],
   "source": [
    "cnn.add(MaxPool2D(pool_size=(2, 2), strides=(2, 2)))"
   ]
  },
  {
   "cell_type": "code",
   "execution_count": 10,
   "metadata": {
    "colab": {},
    "colab_type": "code",
    "id": "i_-FZjn_m8gk"
   },
   "outputs": [],
   "source": [
    "cnn.add(Conv2D(filters=32, kernel_size=3, activation='relu'))\n",
    "cnn.add(MaxPool2D(pool_size=(2, 2), strides=(2, 2)))\n",
    "\n",
    "cnn.add(Conv2D(filters=64, kernel_size=3, activation='relu'))\n",
    "cnn.add(MaxPool2D(pool_size=(2, 2), strides=(2, 2)))"
   ]
  },
  {
   "cell_type": "code",
   "execution_count": 11,
   "metadata": {
    "colab": {},
    "colab_type": "code",
    "id": "6AZeOGCvnNZn"
   },
   "outputs": [],
   "source": [
    "cnn.add(Flatten())"
   ]
  },
  {
   "cell_type": "code",
   "execution_count": 12,
   "metadata": {
    "colab": {},
    "colab_type": "code",
    "id": "8GtmUlLd26Nq"
   },
   "outputs": [
    {
     "data": {
      "text/plain": [
       "\"\\ncnn.add(Dense(32, activation='relu'))\\ncnn.add(Dense(16, activation='relu'))\\ncnn.add(Dense(8, activation='relu'))\\n\""
      ]
     },
     "execution_count": 12,
     "metadata": {},
     "output_type": "execute_result"
    }
   ],
   "source": [
    "cnn.add(Dense(64, activation='relu'))\n",
    "\"\"\"\n",
    "cnn.add(Dense(32, activation='relu'))\n",
    "cnn.add(Dense(16, activation='relu'))\n",
    "cnn.add(Dense(8, activation='relu'))\n",
    "\"\"\""
   ]
  },
  {
   "cell_type": "code",
   "execution_count": 13,
   "metadata": {
    "colab": {},
    "colab_type": "code",
    "id": "1p_Zj1Mc3Ko_"
   },
   "outputs": [],
   "source": [
    "cnn.add(Dense(3, activation='softmax'))"
   ]
  },
  {
   "cell_type": "code",
   "execution_count": 14,
   "metadata": {
    "colab": {},
    "colab_type": "code",
    "id": "NALksrNQpUlJ"
   },
   "outputs": [],
   "source": [
    "cnn.compile(optimizer = 'adam', loss = 'categorical_crossentropy', metrics = ['accuracy'])"
   ]
  },
  {
   "cell_type": "code",
   "execution_count": 15,
   "metadata": {},
   "outputs": [],
   "source": [
    "early_stop = EarlyStopping(monitor='val_loss',mode='min',verbose=1,patience=25)"
   ]
  },
  {
   "cell_type": "code",
   "execution_count": 16,
   "metadata": {
    "colab": {},
    "colab_type": "code",
    "id": "XUj1W4PJptta",
    "scrolled": true
   },
   "outputs": [
    {
     "name": "stdout",
     "output_type": "stream",
     "text": [
      "Epoch 1/200\n",
      "3/3 [==============================] - 11s 4s/step - loss: 1.7855 - accuracy: 0.3351 - val_loss: 1.3028 - val_accuracy: 0.2727\n",
      "Epoch 2/200\n",
      "3/3 [==============================] - 8s 3s/step - loss: 1.1550 - accuracy: 0.3451 - val_loss: 1.1116 - val_accuracy: 0.3939\n",
      "Epoch 3/200\n",
      "3/3 [==============================] - 10s 3s/step - loss: 1.0293 - accuracy: 0.3674 - val_loss: 1.0587 - val_accuracy: 0.4242\n",
      "Epoch 4/200\n",
      "3/3 [==============================] - 19s 5s/step - loss: 0.8928 - accuracy: 0.5710 - val_loss: 0.9796 - val_accuracy: 0.4848\n",
      "Epoch 5/200\n",
      "3/3 [==============================] - 22s 9s/step - loss: 0.7985 - accuracy: 0.6642 - val_loss: 1.1280 - val_accuracy: 0.3636\n",
      "Epoch 6/200\n",
      "3/3 [==============================] - 23s 8s/step - loss: 0.7858 - accuracy: 0.6164 - val_loss: 1.2775 - val_accuracy: 0.3939\n",
      "Epoch 7/200\n",
      "3/3 [==============================] - 23s 8s/step - loss: 0.7732 - accuracy: 0.6688 - val_loss: 1.1871 - val_accuracy: 0.3939\n",
      "Epoch 8/200\n",
      "3/3 [==============================] - 23s 8s/step - loss: 0.6846 - accuracy: 0.6778 - val_loss: 1.0634 - val_accuracy: 0.4545\n",
      "Epoch 9/200\n",
      "3/3 [==============================] - 23s 7s/step - loss: 0.6542 - accuracy: 0.7528 - val_loss: 1.1874 - val_accuracy: 0.3636\n",
      "Epoch 10/200\n",
      "3/3 [==============================] - 24s 8s/step - loss: 0.6869 - accuracy: 0.7227 - val_loss: 0.9011 - val_accuracy: 0.5758\n",
      "Epoch 11/200\n",
      "3/3 [==============================] - 22s 8s/step - loss: 0.6278 - accuracy: 0.6955 - val_loss: 0.9018 - val_accuracy: 0.4848\n",
      "Epoch 12/200\n",
      "3/3 [==============================] - 24s 8s/step - loss: 0.6568 - accuracy: 0.6513 - val_loss: 0.7960 - val_accuracy: 0.6061\n",
      "Epoch 13/200\n",
      "3/3 [==============================] - 24s 8s/step - loss: 0.6602 - accuracy: 0.6364 - val_loss: 0.8227 - val_accuracy: 0.6364\n",
      "Epoch 14/200\n",
      "3/3 [==============================] - 24s 9s/step - loss: 0.5891 - accuracy: 0.7147 - val_loss: 1.0013 - val_accuracy: 0.4848\n",
      "Epoch 15/200\n",
      "3/3 [==============================] - 23s 8s/step - loss: 0.6133 - accuracy: 0.7375 - val_loss: 0.8340 - val_accuracy: 0.5455\n",
      "Epoch 16/200\n",
      "3/3 [==============================] - 23s 7s/step - loss: 0.5262 - accuracy: 0.7707 - val_loss: 0.9578 - val_accuracy: 0.5152\n",
      "Epoch 17/200\n",
      "3/3 [==============================] - 23s 8s/step - loss: 0.5236 - accuracy: 0.7641 - val_loss: 0.8557 - val_accuracy: 0.6364\n",
      "Epoch 18/200\n",
      "3/3 [==============================] - 24s 7s/step - loss: 0.5585 - accuracy: 0.7388 - val_loss: 0.7812 - val_accuracy: 0.6364\n",
      "Epoch 19/200\n",
      "3/3 [==============================] - 24s 8s/step - loss: 0.5424 - accuracy: 0.7838 - val_loss: 0.8071 - val_accuracy: 0.6364\n",
      "Epoch 20/200\n",
      "3/3 [==============================] - 24s 8s/step - loss: 0.4838 - accuracy: 0.7691 - val_loss: 0.7398 - val_accuracy: 0.6364\n",
      "Epoch 21/200\n",
      "3/3 [==============================] - 23s 9s/step - loss: 0.5599 - accuracy: 0.7150 - val_loss: 0.8812 - val_accuracy: 0.5758\n",
      "Epoch 22/200\n",
      "3/3 [==============================] - 23s 9s/step - loss: 0.7331 - accuracy: 0.6409 - val_loss: 0.9167 - val_accuracy: 0.4848\n",
      "Epoch 23/200\n",
      "3/3 [==============================] - 24s 9s/step - loss: 0.6604 - accuracy: 0.7006 - val_loss: 1.2398 - val_accuracy: 0.3939\n",
      "Epoch 24/200\n",
      "3/3 [==============================] - 23s 8s/step - loss: 0.6224 - accuracy: 0.6898 - val_loss: 1.0679 - val_accuracy: 0.3636\n",
      "Epoch 25/200\n",
      "3/3 [==============================] - 22s 7s/step - loss: 0.6220 - accuracy: 0.7120 - val_loss: 1.0131 - val_accuracy: 0.4242\n",
      "Epoch 26/200\n",
      "3/3 [==============================] - 24s 8s/step - loss: 0.5184 - accuracy: 0.7600 - val_loss: 0.9727 - val_accuracy: 0.4848\n",
      "Epoch 27/200\n",
      "3/3 [==============================] - 25s 8s/step - loss: 0.5804 - accuracy: 0.7286 - val_loss: 0.7814 - val_accuracy: 0.6364\n",
      "Epoch 28/200\n",
      "3/3 [==============================] - 24s 8s/step - loss: 0.5104 - accuracy: 0.7884 - val_loss: 0.7046 - val_accuracy: 0.6364\n",
      "Epoch 29/200\n",
      "3/3 [==============================] - 24s 9s/step - loss: 0.4366 - accuracy: 0.8324 - val_loss: 0.8919 - val_accuracy: 0.5758\n",
      "Epoch 30/200\n",
      "3/3 [==============================] - 25s 9s/step - loss: 0.3977 - accuracy: 0.8460 - val_loss: 0.7862 - val_accuracy: 0.6364\n",
      "Epoch 31/200\n",
      "3/3 [==============================] - 24s 8s/step - loss: 0.3626 - accuracy: 0.8587 - val_loss: 0.9455 - val_accuracy: 0.5455\n",
      "Epoch 32/200\n",
      "3/3 [==============================] - 23s 8s/step - loss: 0.4899 - accuracy: 0.7472 - val_loss: 0.9407 - val_accuracy: 0.5152\n",
      "Epoch 33/200\n",
      "3/3 [==============================] - 23s 9s/step - loss: 0.5702 - accuracy: 0.7736 - val_loss: 0.9365 - val_accuracy: 0.6061\n",
      "Epoch 34/200\n",
      "3/3 [==============================] - 24s 8s/step - loss: 0.5158 - accuracy: 0.8202 - val_loss: 1.2670 - val_accuracy: 0.6970\n",
      "Epoch 35/200\n",
      "3/3 [==============================] - 23s 9s/step - loss: 0.5141 - accuracy: 0.7847 - val_loss: 1.2872 - val_accuracy: 0.4545\n",
      "Epoch 36/200\n",
      "3/3 [==============================] - 22s 7s/step - loss: 0.5787 - accuracy: 0.7316 - val_loss: 0.9858 - val_accuracy: 0.4848\n",
      "Epoch 37/200\n",
      "3/3 [==============================] - 23s 7s/step - loss: 0.4359 - accuracy: 0.7971 - val_loss: 0.7572 - val_accuracy: 0.7273\n",
      "Epoch 38/200\n",
      "3/3 [==============================] - 22s 7s/step - loss: 0.3597 - accuracy: 0.8536 - val_loss: 0.8183 - val_accuracy: 0.6667\n",
      "Epoch 39/200\n",
      "3/3 [==============================] - 24s 7s/step - loss: 0.4954 - accuracy: 0.8125 - val_loss: 0.7208 - val_accuracy: 0.6667\n",
      "Epoch 40/200\n",
      "3/3 [==============================] - 24s 8s/step - loss: 0.3568 - accuracy: 0.8853 - val_loss: 0.7702 - val_accuracy: 0.6970\n",
      "Epoch 41/200\n",
      "3/3 [==============================] - 22s 7s/step - loss: 0.3787 - accuracy: 0.8669 - val_loss: 0.8622 - val_accuracy: 0.5758\n",
      "Epoch 42/200\n",
      "3/3 [==============================] - 20s 7s/step - loss: 0.3312 - accuracy: 0.8664 - val_loss: 0.7873 - val_accuracy: 0.6667\n",
      "Epoch 43/200\n",
      "3/3 [==============================] - 18s 7s/step - loss: 0.3569 - accuracy: 0.8435 - val_loss: 0.8125 - val_accuracy: 0.5758\n",
      "Epoch 44/200\n",
      "3/3 [==============================] - 14s 5s/step - loss: 0.3451 - accuracy: 0.8302 - val_loss: 0.8349 - val_accuracy: 0.6364\n",
      "Epoch 45/200\n",
      "3/3 [==============================] - 14s 5s/step - loss: 0.3425 - accuracy: 0.8995 - val_loss: 0.9390 - val_accuracy: 0.6970\n",
      "Epoch 46/200\n",
      "3/3 [==============================] - 11s 4s/step - loss: 0.3355 - accuracy: 0.8653 - val_loss: 0.9977 - val_accuracy: 0.6061\n",
      "Epoch 47/200\n",
      "3/3 [==============================] - 11s 4s/step - loss: 0.3028 - accuracy: 0.8740 - val_loss: 0.7406 - val_accuracy: 0.7273\n",
      "Epoch 48/200\n",
      "3/3 [==============================] - 11s 4s/step - loss: 0.2899 - accuracy: 0.9042 - val_loss: 0.9735 - val_accuracy: 0.7273\n",
      "Epoch 49/200\n",
      "3/3 [==============================] - 11s 4s/step - loss: 0.3093 - accuracy: 0.8908 - val_loss: 0.8293 - val_accuracy: 0.6970\n",
      "Epoch 50/200\n",
      "3/3 [==============================] - 11s 4s/step - loss: 0.2303 - accuracy: 0.9019 - val_loss: 0.7763 - val_accuracy: 0.6667\n",
      "Epoch 51/200\n",
      "3/3 [==============================] - 11s 4s/step - loss: 0.2985 - accuracy: 0.8851 - val_loss: 1.1315 - val_accuracy: 0.7576\n",
      "Epoch 52/200\n",
      "3/3 [==============================] - 11s 3s/step - loss: 0.2175 - accuracy: 0.9239 - val_loss: 1.0849 - val_accuracy: 0.6667\n",
      "Epoch 53/200\n",
      "3/3 [==============================] - 11s 4s/step - loss: 0.2305 - accuracy: 0.8995 - val_loss: 1.0099 - val_accuracy: 0.7273\n",
      "Epoch 00053: early stopping\n"
     ]
    },
    {
     "data": {
      "text/plain": [
       "<tensorflow.python.keras.callbacks.History at 0x15004334a60>"
      ]
     },
     "execution_count": 16,
     "metadata": {},
     "output_type": "execute_result"
    }
   ],
   "source": [
    "cnn.fit(x = training_set, validation_data = test_set, epochs = 200,callbacks=[early_stop])"
   ]
  },
  {
   "cell_type": "code",
   "execution_count": 17,
   "metadata": {},
   "outputs": [],
   "source": [
    "import pandas as pd\n",
    "import matplotlib.pyplot as plt\n",
    "modal_loss = pd.DataFrame(cnn.history.history)"
   ]
  },
  {
   "cell_type": "code",
   "execution_count": 18,
   "metadata": {},
   "outputs": [
    {
     "data": {
      "text/plain": [
       "<matplotlib.axes._subplots.AxesSubplot at 0x15008cea280>"
      ]
     },
     "execution_count": 18,
     "metadata": {},
     "output_type": "execute_result"
    },
    {
     "data": {
      "image/png": "[encoded data removed]",
      "text/plain": [
       "<Figure size 432x288 with 1 Axes>"
      ]
     },
     "metadata": {
      "needs_background": "light"
     },
     "output_type": "display_data"
    }
   ],
   "source": [
    "modal_loss[['accuracy','val_accuracy']].plot()"
   ]
  },
  {
   "cell_type": "code",
   "execution_count": 19,
   "metadata": {},
   "outputs": [
    {
     "data": {
      "text/plain": [
       "<matplotlib.axes._subplots.AxesSubplot at 0x15008db3e20>"
      ]
     },
     "execution_count": 19,
     "metadata": {},
     "output_type": "execute_result"
    },
    {
     "data": {
      "image/png": "[encoded data removed]",
      "text/plain": [
       "<Figure size 432x288 with 1 Axes>"
      ]
     },
     "metadata": {
      "needs_background": "light"
     },
     "output_type": "display_data"
    }
   ],
   "source": [
    "modal_loss[['loss','val_loss']].plot()"
   ]
  },
  {
   "cell_type": "markdown",
   "metadata": {},
   "source": [
    "## Adding Dropout to decrease overfitting"
   ]
  },
  {
   "cell_type": "code",
   "execution_count": 20,
   "metadata": {},
   "outputs": [],
   "source": [
    "cnn = Sequential()\n",
    "cnn.add(Conv2D(filters=32, kernel_size=3, activation='relu',input_shape=[256, 256, 3]))\n",
    "cnn.add(MaxPool2D(pool_size=(2, 2), strides=(2, 2)))\n",
    "cnn.add(Conv2D(filters=32, kernel_size=3, activation='relu'))\n",
    "cnn.add(MaxPool2D(pool_size=(2, 2), strides=(2, 2)))\n",
    "cnn.add(Conv2D(filters=64, kernel_size=3, activation='relu'))\n",
    "cnn.add(MaxPool2D(pool_size=(2, 2), strides=(2, 2)))\n",
    "\n",
    "cnn.add(Flatten())\n",
    "\n",
    "cnn.add(Dense(64, activation='relu'))\n",
    "cnn.add(Dropout(0.5))\n",
    "\"\"\"\n",
    "cnn.add(Dense(32, activation='relu'))\n",
    "cnn.add(Dropout(0.2))\n",
    "cnn.add(Dense(16, activation='relu'))\n",
    "cnn.add(Dropout(0.2))\n",
    "cnn.add(Dense(8, activation='relu'))\n",
    "\"\"\"\n",
    "cnn.add(Dense(3, activation='softmax'))"
   ]
  },
  {
   "cell_type": "code",
   "execution_count": 21,
   "metadata": {},
   "outputs": [],
   "source": [
    "cnn.compile(optimizer = 'adam', loss = 'categorical_crossentropy', metrics = ['accuracy'])"
   ]
  },
  {
   "cell_type": "code",
   "execution_count": 22,
   "metadata": {},
   "outputs": [
    {
     "name": "stdout",
     "output_type": "stream",
     "text": [
      "Epoch 1/200\n",
      "3/3 [==============================] - 15s 5s/step - loss: 1.6628 - accuracy: 0.2782 - val_loss: 1.2832 - val_accuracy: 0.3030\n",
      "Epoch 2/200\n",
      "3/3 [==============================] - 11s 4s/step - loss: 1.2144 - accuracy: 0.3298 - val_loss: 1.0883 - val_accuracy: 0.3939\n",
      "Epoch 3/200\n",
      "3/3 [==============================] - 11s 4s/step - loss: 1.0465 - accuracy: 0.3103 - val_loss: 1.0474 - val_accuracy: 0.5758\n",
      "Epoch 4/200\n",
      "3/3 [==============================] - 11s 4s/step - loss: 1.0058 - accuracy: 0.3881 - val_loss: 1.0176 - val_accuracy: 0.3939\n",
      "Epoch 5/200\n",
      "3/3 [==============================] - 11s 4s/step - loss: 0.9559 - accuracy: 0.4438 - val_loss: 0.9687 - val_accuracy: 0.5455\n",
      "Epoch 6/200\n",
      "3/3 [==============================] - 11s 4s/step - loss: 0.8812 - accuracy: 0.4582 - val_loss: 0.9736 - val_accuracy: 0.4545\n",
      "Epoch 7/200\n",
      "3/3 [==============================] - 11s 3s/step - loss: 0.8393 - accuracy: 0.5625 - val_loss: 0.9269 - val_accuracy: 0.5455\n",
      "Epoch 8/200\n",
      "3/3 [==============================] - 11s 3s/step - loss: 0.7490 - accuracy: 0.6604 - val_loss: 0.9068 - val_accuracy: 0.4848\n",
      "Epoch 9/200\n",
      "3/3 [==============================] - 11s 4s/step - loss: 0.6816 - accuracy: 0.7100 - val_loss: 0.9251 - val_accuracy: 0.4848\n",
      "Epoch 10/200\n",
      "3/3 [==============================] - 12s 4s/step - loss: 0.7336 - accuracy: 0.6859 - val_loss: 0.7586 - val_accuracy: 0.5152\n",
      "Epoch 11/200\n",
      "3/3 [==============================] - 11s 4s/step - loss: 0.6423 - accuracy: 0.7109 - val_loss: 0.8426 - val_accuracy: 0.6061\n",
      "Epoch 12/200\n",
      "3/3 [==============================] - 11s 4s/step - loss: 0.6243 - accuracy: 0.7567 - val_loss: 0.8787 - val_accuracy: 0.5758\n",
      "Epoch 13/200\n",
      "3/3 [==============================] - 11s 4s/step - loss: 0.6325 - accuracy: 0.7638 - val_loss: 0.8693 - val_accuracy: 0.5455\n",
      "Epoch 14/200\n",
      "3/3 [==============================] - 11s 4s/step - loss: 0.7220 - accuracy: 0.6804 - val_loss: 0.7573 - val_accuracy: 0.6061\n",
      "Epoch 15/200\n",
      "3/3 [==============================] - 11s 4s/step - loss: 0.6509 - accuracy: 0.7361 - val_loss: 0.9207 - val_accuracy: 0.4545\n",
      "Epoch 16/200\n",
      "3/3 [==============================] - 11s 4s/step - loss: 0.6965 - accuracy: 0.6648 - val_loss: 1.2450 - val_accuracy: 0.5758\n",
      "Epoch 17/200\n",
      "3/3 [==============================] - 11s 4s/step - loss: 0.7121 - accuracy: 0.6915 - val_loss: 0.8740 - val_accuracy: 0.5758\n",
      "Epoch 18/200\n",
      "3/3 [==============================] - 11s 3s/step - loss: 0.6922 - accuracy: 0.7250 - val_loss: 0.9441 - val_accuracy: 0.4848\n",
      "Epoch 19/200\n",
      "3/3 [==============================] - 11s 4s/step - loss: 0.6074 - accuracy: 0.7246 - val_loss: 0.8631 - val_accuracy: 0.5455\n",
      "Epoch 20/200\n",
      "3/3 [==============================] - 11s 3s/step - loss: 0.6662 - accuracy: 0.6374 - val_loss: 0.9476 - val_accuracy: 0.5758\n",
      "Epoch 21/200\n",
      "3/3 [==============================] - 11s 4s/step - loss: 0.5720 - accuracy: 0.7241 - val_loss: 1.4511 - val_accuracy: 0.4848\n",
      "Epoch 22/200\n",
      "3/3 [==============================] - 11s 4s/step - loss: 0.6940 - accuracy: 0.7394 - val_loss: 0.9712 - val_accuracy: 0.5455\n",
      "Epoch 23/200\n",
      "3/3 [==============================] - 11s 4s/step - loss: 0.6452 - accuracy: 0.6885 - val_loss: 0.9948 - val_accuracy: 0.5152\n",
      "Epoch 24/200\n",
      "3/3 [==============================] - 11s 4s/step - loss: 0.6377 - accuracy: 0.6966 - val_loss: 0.9283 - val_accuracy: 0.6364\n",
      "Epoch 25/200\n",
      "3/3 [==============================] - 11s 4s/step - loss: 0.6613 - accuracy: 0.6487 - val_loss: 1.0902 - val_accuracy: 0.3939\n",
      "Epoch 26/200\n",
      "3/3 [==============================] - 11s 4s/step - loss: 0.6777 - accuracy: 0.7108 - val_loss: 0.9790 - val_accuracy: 0.5758\n",
      "Epoch 27/200\n",
      "3/3 [==============================] - 11s 4s/step - loss: 0.6969 - accuracy: 0.6218 - val_loss: 1.1783 - val_accuracy: 0.4242\n",
      "Epoch 28/200\n",
      "3/3 [==============================] - 11s 4s/step - loss: 0.7001 - accuracy: 0.7299 - val_loss: 1.1255 - val_accuracy: 0.4242\n",
      "Epoch 29/200\n",
      "3/3 [==============================] - 10s 4s/step - loss: 0.5931 - accuracy: 0.7708 - val_loss: 0.9886 - val_accuracy: 0.4848\n",
      "Epoch 30/200\n",
      "3/3 [==============================] - 10s 3s/step - loss: 0.6074 - accuracy: 0.6898 - val_loss: 0.9789 - val_accuracy: 0.4545\n",
      "Epoch 31/200\n",
      "3/3 [==============================] - 11s 3s/step - loss: 0.5978 - accuracy: 0.7160 - val_loss: 1.0869 - val_accuracy: 0.5758\n",
      "Epoch 32/200\n",
      "3/3 [==============================] - 11s 4s/step - loss: 0.6201 - accuracy: 0.6801 - val_loss: 0.9872 - val_accuracy: 0.5152\n",
      "Epoch 33/200\n",
      "3/3 [==============================] - 10s 3s/step - loss: 0.5685 - accuracy: 0.7339 - val_loss: 0.9772 - val_accuracy: 0.5758\n",
      "Epoch 34/200\n",
      "3/3 [==============================] - 8s 3s/step - loss: 0.5799 - accuracy: 0.7172 - val_loss: 0.9100 - val_accuracy: 0.5758\n",
      "Epoch 35/200\n",
      "3/3 [==============================] - 8s 3s/step - loss: 0.5727 - accuracy: 0.8012 - val_loss: 0.9979 - val_accuracy: 0.4848\n",
      "Epoch 36/200\n",
      "3/3 [==============================] - 8s 2s/step - loss: 0.5814 - accuracy: 0.7570 - val_loss: 0.9674 - val_accuracy: 0.4848\n",
      "Epoch 37/200\n",
      "3/3 [==============================] - 9s 3s/step - loss: 0.5153 - accuracy: 0.7567 - val_loss: 0.9632 - val_accuracy: 0.5455\n",
      "Epoch 38/200\n",
      "3/3 [==============================] - 49s 9s/step - loss: 0.5738 - accuracy: 0.7208 - val_loss: 1.0314 - val_accuracy: 0.5758\n",
      "Epoch 39/200\n",
      "3/3 [==============================] - 10s 3s/step - loss: 0.5080 - accuracy: 0.7522 - val_loss: 1.0538 - val_accuracy: 0.5455\n",
      "Epoch 00039: early stopping\n"
     ]
    },
    {
     "data": {
      "text/plain": [
       "<tensorflow.python.keras.callbacks.History at 0x15008e41550>"
      ]
     },
     "execution_count": 22,
     "metadata": {},
     "output_type": "execute_result"
    }
   ],
   "source": [
    "cnn.fit(x = training_set, validation_data = test_set, epochs = 200,callbacks=[early_stop])"
   ]
  },
  {
   "cell_type": "code",
   "execution_count": 23,
   "metadata": {},
   "outputs": [
    {
     "data": {
      "text/plain": [
       "<matplotlib.axes._subplots.AxesSubplot at 0x15008c5d220>"
      ]
     },
     "execution_count": 23,
     "metadata": {},
     "output_type": "execute_result"
    },
    {
     "data": {
      "image/png": "[encoded data removed]",
      "text/plain": [
       "<Figure size 432x288 with 1 Axes>"
      ]
     },
     "metadata": {
      "needs_background": "light"
     },
     "output_type": "display_data"
    }
   ],
   "source": [
    "modal_loss = pd.DataFrame(cnn.history.history)\n",
    "modal_loss[['accuracy','val_accuracy']].plot()"
   ]
  },
  {
   "cell_type": "code",
   "execution_count": 24,
   "metadata": {},
   "outputs": [
    {
     "data": {
      "text/plain": [
       "<matplotlib.axes._subplots.AxesSubplot at 0x15008e7cb50>"
      ]
     },
     "execution_count": 24,
     "metadata": {},
     "output_type": "execute_result"
    },
    {
     "data": {
      "image/png": "[encoded data removed]",
      "text/plain": [
       "<Figure size 432x288 with 1 Axes>"
      ]
     },
     "metadata": {
      "needs_background": "light"
     },
     "output_type": "display_data"
    }
   ],
   "source": [
    "modal_loss[['loss','val_loss']].plot()"
   ]
  },
  {
   "cell_type": "markdown",
   "metadata": {
    "colab_type": "text",
    "id": "U3PZasO0006Z"
   },
   "source": [
    "## Making a single prediction"
   ]
  },
  {
   "cell_type": "code",
   "execution_count": 25,
   "metadata": {
    "colab": {},
    "colab_type": "code",
    "id": "gsSiWEJY1BPB"
   },
   "outputs": [
    {
     "name": "stderr",
     "output_type": "stream",
     "text": [
      "C:\\Users\\hp\\anaconda3\\lib\\site-packages\\tensorflow\\python\\keras\\engine\\sequential.py:450: UserWarning: `model.predict_classes()` is deprecated and will be removed after 2021-01-01. Please use instead:* `np.argmax(model.predict(x), axis=-1)`,   if your model does multi-class classification   (e.g. if it uses a `softmax` last-layer activation).* `(model.predict(x) > 0.5).astype(\"int32\")`,   if your model does binary classification   (e.g. if it uses a `sigmoid` last-layer activation).\n",
      "  warnings.warn('`model.predict_classes()` is deprecated and '\n"
     ]
    },
    {
     "data": {
      "text/plain": [
       "{'Bacterial leaf blight': 0, 'Brown spot': 1, 'Leaf smut': 2}"
      ]
     },
     "execution_count": 25,
     "metadata": {},
     "output_type": "execute_result"
    }
   ],
   "source": [
    "import numpy as np\n",
    "from tensorflow.keras.preprocessing import image\n",
    "test_image = image.load_img('datasets/rice_brown_leaf.jpg', target_size = (256, 256))\n",
    "test_image = image.img_to_array(test_image)\n",
    "test_image = np.expand_dims(test_image, axis = 0)\n",
    "result = cnn.predict_classes(test_image)\n",
    "training_set.class_indices"
   ]
  },
  {
   "cell_type": "code",
   "execution_count": 26,
   "metadata": {},
   "outputs": [
    {
     "data": {
      "text/plain": [
       "array([2], dtype=int64)"
      ]
     },
     "execution_count": 26,
     "metadata": {},
     "output_type": "execute_result"
    }
   ],
   "source": [
    "result"
   ]
  },
  {
   "cell_type": "code",
   "execution_count": 27,
   "metadata": {
    "colab": {},
    "colab_type": "code",
    "id": "ED9KB3I54c1i"
   },
   "outputs": [
    {
     "name": "stdout",
     "output_type": "stream",
     "text": [
      "Leaf smut\n"
     ]
    }
   ],
   "source": [
    "if result[0] == 0:\n",
    "    prediction = 'Bacterial leaf blight'\n",
    "elif result[0] == 1:\n",
    "    prediction = 'Brown spot'\n",
    "else:\n",
    "    prediction = 'Leaf smut'\n",
    "print(prediction)"
   ]
  },
  {
   "cell_type": "code",
   "execution_count": 28,
   "metadata": {},
   "outputs": [],
   "source": [
    "test_image = image.load_img('datasets/rice_Leaf_smut.jpg', target_size = (256, 256))\n",
    "test_image = image.img_to_array(test_image)\n",
    "test_image = np.expand_dims(test_image, axis = 0)\n",
    "result = cnn.predict_classes(test_image)"
   ]
  },
  {
   "cell_type": "code",
   "execution_count": 29,
   "metadata": {},
   "outputs": [
    {
     "data": {
      "text/plain": [
       "array([2], dtype=int64)"
      ]
     },
     "execution_count": 29,
     "metadata": {},
     "output_type": "execute_result"
    }
   ],
   "source": [
    "result"
   ]
  },
  {
   "cell_type": "code",
   "execution_count": 30,
   "metadata": {},
   "outputs": [
    {
     "name": "stdout",
     "output_type": "stream",
     "text": [
      "Leaf smut\n"
     ]
    }
   ],
   "source": [
    "if result[0] == 0:\n",
    "    prediction = 'Bacterial leaf blight'\n",
    "elif result[0] == 1:\n",
    "    prediction = 'Brown spot'\n",
    "else:\n",
    "    prediction = 'Leaf smut'\n",
    "print(prediction)"
   ]
  },
  {
   "cell_type": "code",
   "execution_count": 31,
   "metadata": {},
   "outputs": [
    {
     "data": {
      "text/plain": [
       "array([2], dtype=int64)"
      ]
     },
     "execution_count": 31,
     "metadata": {},
     "output_type": "execute_result"
    }
   ],
   "source": [
    "test_image = image.load_img('datasets/rice_Leaf_smut1.jpg', target_size = (256, 256))\n",
    "test_image = image.img_to_array(test_image)\n",
    "test_image = np.expand_dims(test_image, axis = 0)\n",
    "result = cnn.predict_classes(test_image)\n",
    "result"
   ]
  },
  {
   "cell_type": "code",
   "execution_count": 32,
   "metadata": {},
   "outputs": [
    {
     "name": "stdout",
     "output_type": "stream",
     "text": [
      "Leaf smut\n"
     ]
    }
   ],
   "source": [
    "if result[0] == 0:\n",
    "    prediction = 'Bacterial leaf blight'\n",
    "elif result[0] == 1:\n",
    "    prediction = 'Brown spot'\n",
    "else:\n",
    "    prediction = 'Leaf smut'\n",
    "print(prediction)"
   ]
  },
  {
   "cell_type": "code",
   "execution_count": 33,
   "metadata": {},
   "outputs": [
    {
     "data": {
      "text/plain": [
       "array([2], dtype=int64)"
      ]
     },
     "execution_count": 33,
     "metadata": {},
     "output_type": "execute_result"
    }
   ],
   "source": [
    "test_image = image.load_img('datasets/rice_Bacterial-leaf-blight.jpg', target_size = (256, 256))\n",
    "test_image = image.img_to_array(test_image)\n",
    "test_image = np.expand_dims(test_image, axis = 0)\n",
    "result = cnn.predict_classes(test_image)\n",
    "result"
   ]
  },
  {
   "cell_type": "code",
   "execution_count": 34,
   "metadata": {},
   "outputs": [
    {
     "name": "stdout",
     "output_type": "stream",
     "text": [
      "Leaf smut\n"
     ]
    }
   ],
   "source": [
    "if result[0] == 0:\n",
    "    prediction = 'Bacterial leaf blight'\n",
    "elif result[0] == 1:\n",
    "    prediction = 'Brown spot'\n",
    "else:\n",
    "    prediction = 'Leaf smut'\n",
    "print(prediction)"
   ]
  },
  {
   "cell_type": "code",
   "execution_count": 45,
   "metadata": {},
   "outputs": [
    {
     "name": "stderr",
     "output_type": "stream",
     "text": [
      "C:\\Users\\hp\\anaconda3\\lib\\site-packages\\tensorflow\\python\\keras\\engine\\sequential.py:450: UserWarning: `model.predict_classes()` is deprecated and will be removed after 2021-01-01. Please use instead:* `np.argmax(model.predict(x), axis=-1)`,   if your model does multi-class classification   (e.g. if it uses a `softmax` last-layer activation).* `(model.predict(x) > 0.5).astype(\"int32\")`,   if your model does binary classification   (e.g. if it uses a `sigmoid` last-layer activation).\n",
      "  warnings.warn('`model.predict_classes()` is deprecated and '\n"
     ]
    }
   ],
   "source": [
    "pred = cnn.predict_classes(test_set)"
   ]
  },
  {
   "cell_type": "code",
   "execution_count": 46,
   "metadata": {},
   "outputs": [
    {
     "data": {
      "text/plain": [
       "{'Bacterial leaf blight': 0, 'Brown spot': 1, 'Leaf smut': 2}"
      ]
     },
     "execution_count": 46,
     "metadata": {},
     "output_type": "execute_result"
    }
   ],
   "source": [
    "test_set.class_indices"
   ]
  },
  {
   "cell_type": "markdown",
   "metadata": {},
   "source": [
    "### predicted classes"
   ]
  },
  {
   "cell_type": "code",
   "execution_count": 47,
   "metadata": {},
   "outputs": [
    {
     "data": {
      "text/plain": [
       "array([0, 0, 0, 0, 2, 2, 0, 0, 0, 0, 0, 2, 1, 0, 0, 2, 2, 2, 2, 2, 0, 0,\n",
       "       2, 2, 0, 0, 1, 2, 0, 0, 0, 1, 0], dtype=int64)"
      ]
     },
     "execution_count": 47,
     "metadata": {},
     "output_type": "execute_result"
    }
   ],
   "source": [
    "pred"
   ]
  },
  {
   "cell_type": "markdown",
   "metadata": {},
   "source": [
    "### correct classes"
   ]
  },
  {
   "cell_type": "code",
   "execution_count": 48,
   "metadata": {},
   "outputs": [
    {
     "data": {
      "text/plain": [
       "array([0, 0, 0, 0, 0, 0, 0, 0, 0, 0, 1, 1, 1, 1, 1, 1, 1, 1, 1, 1, 2, 2,\n",
       "       2, 2, 2, 2, 2, 2, 2, 2, 2, 2, 2])"
      ]
     },
     "execution_count": 48,
     "metadata": {},
     "output_type": "execute_result"
    }
   ],
   "source": [
    "test_set.classes"
   ]
  },
  {
   "cell_type": "code",
   "execution_count": 49,
   "metadata": {},
   "outputs": [
    {
     "name": "stdout",
     "output_type": "stream",
     "text": [
      "              precision    recall  f1-score   support\n",
      "\n",
      "           0       0.42      0.80      0.55        10\n",
      "           1       0.33      0.10      0.15        10\n",
      "           2       0.27      0.23      0.25        13\n",
      "\n",
      "    accuracy                           0.36        33\n",
      "   macro avg       0.34      0.38      0.32        33\n",
      "weighted avg       0.34      0.36      0.31        33\n",
      "\n",
      "[[8 0 2]\n",
      " [3 1 6]\n",
      " [8 2 3]]\n"
     ]
    }
   ],
   "source": [
    "from sklearn.metrics import classification_report,confusion_matrix\n",
    "print(classification_report(test_set.classes,pred))\n",
    "print(confusion_matrix(test_set.classes,pred))"
   ]
  },
  {
   "cell_type": "code",
   "execution_count": 50,
   "metadata": {},
   "outputs": [
    {
     "data": {
      "text/plain": [
       "<tensorflow.python.keras.preprocessing.image.ImageDataGenerator at 0x15003b9cca0>"
      ]
     },
     "execution_count": 50,
     "metadata": {},
     "output_type": "execute_result"
    }
   ],
   "source": [
    "train_datagen"
   ]
  },
  {
   "cell_type": "code",
   "execution_count": 51,
   "metadata": {},
   "outputs": [
    {
     "data": {
      "text/plain": [
       "<tensorflow.python.keras.preprocessing.image.DirectoryIterator at 0x15003b9cc10>"
      ]
     },
     "execution_count": 51,
     "metadata": {},
     "output_type": "execute_result"
    }
   ],
   "source": [
    "training_set"
   ]
  },
  {
   "cell_type": "code",
   "execution_count": 52,
   "metadata": {},
   "outputs": [
    {
     "name": "stdout",
     "output_type": "stream",
     "text": [
      "Batch shape=(32, 256, 256, 3), min=0.000, max=1.000\n"
     ]
    }
   ],
   "source": [
    "# confirm the iterator works\n",
    "batchX, batchy = training_set.next()\n",
    "print('Batch shape=%s, min=%.3f, max=%.3f' % (batchX.shape, batchX.min(), batchX.max()))"
   ]
  },
  {
   "cell_type": "code",
   "execution_count": 53,
   "metadata": {},
   "outputs": [
    {
     "name": "stdout",
     "output_type": "stream",
     "text": [
      "Model: \"sequential_1\"\n",
      "_________________________________________________________________\n",
      "Layer (type)                 Output Shape              Param #   \n",
      "=================================================================\n",
      "conv2d_3 (Conv2D)            (None, 254, 254, 32)      896       \n",
      "_________________________________________________________________\n",
      "max_pooling2d_3 (MaxPooling2 (None, 127, 127, 32)      0         \n",
      "_________________________________________________________________\n",
      "conv2d_4 (Conv2D)            (None, 125, 125, 32)      9248      \n",
      "_________________________________________________________________\n",
      "max_pooling2d_4 (MaxPooling2 (None, 62, 62, 32)        0         \n",
      "_________________________________________________________________\n",
      "conv2d_5 (Conv2D)            (None, 60, 60, 64)        18496     \n",
      "_________________________________________________________________\n",
      "max_pooling2d_5 (MaxPooling2 (None, 30, 30, 64)        0         \n",
      "_________________________________________________________________\n",
      "flatten_1 (Flatten)          (None, 57600)             0         \n",
      "_________________________________________________________________\n",
      "dense_2 (Dense)              (None, 64)                3686464   \n",
      "_________________________________________________________________\n",
      "dropout (Dropout)            (None, 64)                0         \n",
      "_________________________________________________________________\n",
      "dense_3 (Dense)              (None, 3)                 195       \n",
      "=================================================================\n",
      "Total params: 3,715,299\n",
      "Trainable params: 3,715,299\n",
      "Non-trainable params: 0\n",
      "_________________________________________________________________\n"
     ]
    }
   ],
   "source": [
    "cnn.summary()"
   ]
  },
  {
   "cell_type": "code",
   "execution_count": 54,
   "metadata": {},
   "outputs": [],
   "source": [
    "cnn.save('model.h5')"
   ]
  },
  {
   "cell_type": "code",
   "execution_count": null,
   "metadata": {},
   "outputs": [],
   "source": []
  },
  {
   "cell_type": "code",
   "execution_count": null,
   "metadata": {},
   "outputs": [],
   "source": []
  }
 ],
 "metadata": {
  "colab": {
   "collapsed_sections": [],
   "name": "convolutional_neural_network.ipynb",
   "provenance": [],
   "toc_visible": true
  },
  "kernelspec": {
   "display_name": "Python 3",
   "language": "python",
   "name": "python3"
  },
  "language_info": {
   "codemirror_mode": {
    "name": "ipython",
    "version": 3
   },
   "file_extension": ".py",
   "mimetype": "text/x-python",
   "name": "python",
   "nbconvert_exporter": "python",
   "pygments_lexer": "ipython3",
   "version": "3.8.3"
  }
 },
 "nbformat": 4,
 "nbformat_minor": 1
}
